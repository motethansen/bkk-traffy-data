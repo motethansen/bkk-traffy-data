version https://git-lfs.github.com/spec/v1
oid sha256:8e08ddd80a75bd145fe3f96a0b68bc66893bc8901612524b911984216d6a39a3
size 131928597
