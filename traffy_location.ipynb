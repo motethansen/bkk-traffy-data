version https://git-lfs.github.com/spec/v1
oid sha256:356876b023627f981e3d38cb83d855ac1e7243223ed82b70111e27da2c3f5567
size 49219302
